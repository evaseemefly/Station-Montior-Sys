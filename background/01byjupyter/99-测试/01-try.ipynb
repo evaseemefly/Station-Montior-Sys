{
 "cells": [
  {
   "cell_type": "code",
   "execution_count": 1,
   "metadata": {},
   "outputs": [
    {
     "name": "stdout",
     "output_type": "stream",
     "text": [
      "try语句\n",
      "接收到()\n",
      "finally语句\n",
      "外部语句\n"
     ]
    }
   ],
   "source": [
    "try:\n",
    "    print('try语句')\n",
    "    raise ValueError\n",
    "except Exception as e:\n",
    "    print(f'接收到{e.args}')\n",
    "finally:\n",
    "    print('finally语句')\n",
    "print('外部语句')"
   ]
  },
  {
   "cell_type": "code",
   "execution_count": null,
   "metadata": {},
   "outputs": [],
   "source": []
  }
 ],
 "metadata": {
  "kernelspec": {
   "display_name": "newoilgdal",
   "language": "python",
   "name": "python3"
  },
  "language_info": {
   "codemirror_mode": {
    "name": "ipython",
    "version": 3
   },
   "file_extension": ".py",
   "mimetype": "text/x-python",
   "name": "python",
   "nbconvert_exporter": "python",
   "pygments_lexer": "ipython3",
   "version": "3.7.10"
  }
 },
 "nbformat": 4,
 "nbformat_minor": 2
}
