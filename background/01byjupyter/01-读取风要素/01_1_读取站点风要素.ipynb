{
 "cells": [
  {
   "cell_type": "code",
   "execution_count": 14,
   "metadata": {},
   "outputs": [],
   "source": [
    "import os\n",
    "import pandas as pd\n",
    "import numpy as np\n",
    "import pathlib\n",
    "import xarray as xr\n",
    "import rioxarray\n",
    "from typing import List"
   ]
  },
  {
   "cell_type": "code",
   "execution_count": 3,
   "metadata": {},
   "outputs": [
    {
     "data": {
      "text/plain": [
       "'D:\\\\01Proj\\\\Station-Montior-Sys\\\\_data\\\\perclock\\\\WS1217_DAT.08442'"
      ]
     },
     "execution_count": 3,
     "metadata": {},
     "output_type": "execute_result"
    }
   ],
   "source": [
    "read_path:str=r'D:\\01Proj\\Station-Montior-Sys\\_data\\perclock'\n",
    "read_file:str='WS1217_DAT.08442'\n",
    "full_path:str=str(pathlib.Path(read_path, read_file))\n",
    "full_path"
   ]
  },
  {
   "cell_type": "markdown",
   "metadata": {},
   "source": [
    "#### 1- 读取整点风要素并生成对应集合"
   ]
  },
  {
   "cell_type": "code",
   "execution_count": 4,
   "metadata": {},
   "outputs": [],
   "source": [
    "with open(full_path,'rb') as f:\n",
    "    data=pd.read_csv(f, encoding='gbk', sep='\\s+', header=None,\n",
    "                                                infer_datetime_format=False)"
   ]
  },
  {
   "cell_type": "code",
   "execution_count": 5,
   "metadata": {},
   "outputs": [
    {
     "data": {
      "text/html": [
       "<div>\n",
       "<style scoped>\n",
       "    .dataframe tbody tr th:only-of-type {\n",
       "        vertical-align: middle;\n",
       "    }\n",
       "\n",
       "    .dataframe tbody tr th {\n",
       "        vertical-align: top;\n",
       "    }\n",
       "\n",
       "    .dataframe thead th {\n",
       "        text-align: right;\n",
       "    }\n",
       "</style>\n",
       "<table border=\"1\" class=\"dataframe\">\n",
       "  <thead>\n",
       "    <tr style=\"text-align: right;\">\n",
       "      <th></th>\n",
       "      <th>0</th>\n",
       "      <th>1</th>\n",
       "      <th>2</th>\n",
       "      <th>3</th>\n",
       "      <th>4</th>\n",
       "      <th>5</th>\n",
       "      <th>6</th>\n",
       "      <th>7</th>\n",
       "      <th>8</th>\n",
       "      <th>9</th>\n",
       "      <th>...</th>\n",
       "      <th>39</th>\n",
       "      <th>40</th>\n",
       "      <th>41</th>\n",
       "      <th>42</th>\n",
       "      <th>43</th>\n",
       "      <th>44</th>\n",
       "      <th>45</th>\n",
       "      <th>46</th>\n",
       "      <th>47</th>\n",
       "      <th>48</th>\n",
       "    </tr>\n",
       "  </thead>\n",
       "  <tbody>\n",
       "    <tr>\n",
       "      <th>0</th>\n",
       "      <td>20231217.0</td>\n",
       "      <td>72</td>\n",
       "      <td>4.2</td>\n",
       "      <td>81.0</td>\n",
       "      <td>5.7</td>\n",
       "      <td>69.0</td>\n",
       "      <td>2.9</td>\n",
       "      <td>55.0</td>\n",
       "      <td>2.7</td>\n",
       "      <td>70.0</td>\n",
       "      <td>...</td>\n",
       "      <td>75.0</td>\n",
       "      <td>3.7</td>\n",
       "      <td>54.0</td>\n",
       "      <td>2.9</td>\n",
       "      <td>77.0</td>\n",
       "      <td>3.8</td>\n",
       "      <td>68.0</td>\n",
       "      <td>2.7</td>\n",
       "      <td>78.0</td>\n",
       "      <td>4.0</td>\n",
       "    </tr>\n",
       "    <tr>\n",
       "      <th>1</th>\n",
       "      <td>10.4</td>\n",
       "      <td>37</td>\n",
       "      <td>12.6</td>\n",
       "      <td>29.0</td>\n",
       "      <td>10.8</td>\n",
       "      <td>109.0</td>\n",
       "      <td>10.6</td>\n",
       "      <td>105.0</td>\n",
       "      <td>NaN</td>\n",
       "      <td>NaN</td>\n",
       "      <td>...</td>\n",
       "      <td>NaN</td>\n",
       "      <td>NaN</td>\n",
       "      <td>NaN</td>\n",
       "      <td>NaN</td>\n",
       "      <td>NaN</td>\n",
       "      <td>NaN</td>\n",
       "      <td>NaN</td>\n",
       "      <td>NaN</td>\n",
       "      <td>NaN</td>\n",
       "      <td>NaN</td>\n",
       "    </tr>\n",
       "    <tr>\n",
       "      <th>2</th>\n",
       "      <td>6.2</td>\n",
       "      <td>86</td>\n",
       "      <td>1013.0</td>\n",
       "      <td>NaN</td>\n",
       "      <td>NaN</td>\n",
       "      <td>NaN</td>\n",
       "      <td>NaN</td>\n",
       "      <td>NaN</td>\n",
       "      <td>NaN</td>\n",
       "      <td>NaN</td>\n",
       "      <td>...</td>\n",
       "      <td>NaN</td>\n",
       "      <td>NaN</td>\n",
       "      <td>NaN</td>\n",
       "      <td>NaN</td>\n",
       "      <td>NaN</td>\n",
       "      <td>NaN</td>\n",
       "      <td>NaN</td>\n",
       "      <td>NaN</td>\n",
       "      <td>NaN</td>\n",
       "      <td>NaN</td>\n",
       "    </tr>\n",
       "    <tr>\n",
       "      <th>3</th>\n",
       "      <td>12.6</td>\n",
       "      <td>29</td>\n",
       "      <td>324.0</td>\n",
       "      <td>NaN</td>\n",
       "      <td>NaN</td>\n",
       "      <td>NaN</td>\n",
       "      <td>NaN</td>\n",
       "      <td>NaN</td>\n",
       "      <td>NaN</td>\n",
       "      <td>NaN</td>\n",
       "      <td>...</td>\n",
       "      <td>NaN</td>\n",
       "      <td>NaN</td>\n",
       "      <td>NaN</td>\n",
       "      <td>NaN</td>\n",
       "      <td>NaN</td>\n",
       "      <td>NaN</td>\n",
       "      <td>NaN</td>\n",
       "      <td>NaN</td>\n",
       "      <td>NaN</td>\n",
       "      <td>NaN</td>\n",
       "    </tr>\n",
       "  </tbody>\n",
       "</table>\n",
       "<p>4 rows × 49 columns</p>\n",
       "</div>"
      ],
      "text/plain": [
       "           0   1       2     3     4      5     6      7    8     9   ...  \\\n",
       "0  20231217.0  72     4.2  81.0   5.7   69.0   2.9   55.0  2.7  70.0  ...   \n",
       "1        10.4  37    12.6  29.0  10.8  109.0  10.6  105.0  NaN   NaN  ...   \n",
       "2         6.2  86  1013.0   NaN   NaN    NaN   NaN    NaN  NaN   NaN  ...   \n",
       "3        12.6  29   324.0   NaN   NaN    NaN   NaN    NaN  NaN   NaN  ...   \n",
       "\n",
       "     39   40    41   42    43   44    45   46    47   48  \n",
       "0  75.0  3.7  54.0  2.9  77.0  3.8  68.0  2.7  78.0  4.0  \n",
       "1   NaN  NaN   NaN  NaN   NaN  NaN   NaN  NaN   NaN  NaN  \n",
       "2   NaN  NaN   NaN  NaN   NaN  NaN   NaN  NaN   NaN  NaN  \n",
       "3   NaN  NaN   NaN  NaN   NaN  NaN   NaN  NaN   NaN  NaN  \n",
       "\n",
       "[4 rows x 49 columns]"
      ]
     },
     "execution_count": 5,
     "metadata": {},
     "output_type": "execute_result"
    }
   ],
   "source": [
    "data"
   ]
  },
  {
   "cell_type": "markdown",
   "metadata": {},
   "source": [
    "#### 1-1 读取第一行  \n",
    "对于风要素，line0 行  \n",
    "index=0 时间 eg:20231217  \n",
    "index=1 -> index=48 24组数  \n",
    "风向 | 风速"
   ]
  },
  {
   "cell_type": "code",
   "execution_count": 8,
   "metadata": {},
   "outputs": [
    {
     "data": {
      "text/plain": [
       "0    20231217.0\n",
       "1          72.0\n",
       "2           4.2\n",
       "3          81.0\n",
       "4           5.7\n",
       "Name: 0, dtype: float64"
      ]
     },
     "execution_count": 8,
     "metadata": {},
     "output_type": "execute_result"
    }
   ],
   "source": [
    "data.iloc[0][:5]"
   ]
  },
  {
   "cell_type": "code",
   "execution_count": 15,
   "metadata": {},
   "outputs": [
    {
     "data": {
      "text/plain": [
       "20231217.0"
      ]
     },
     "execution_count": 15,
     "metadata": {},
     "output_type": "execute_result"
    }
   ],
   "source": [
    "data.iloc[0][0]"
   ]
  },
  {
   "cell_type": "code",
   "execution_count": 16,
   "metadata": {},
   "outputs": [
    {
     "name": "stdout",
     "output_type": "stream",
     "text": [
      "72.0\n",
      "4.2\n",
      "81.0\n",
      "5.7\n"
     ]
    }
   ],
   "source": [
    "for index,val in enumerate(data.iloc[0][1:5]):\n",
    "    print(val)"
   ]
  },
  {
   "cell_type": "code",
   "execution_count": 20,
   "metadata": {},
   "outputs": [
    {
     "data": {
      "text/plain": [
       "0"
      ]
     },
     "execution_count": 20,
     "metadata": {},
     "output_type": "execute_result"
    }
   ],
   "source": [
    "range(24)[0]"
   ]
  },
  {
   "cell_type": "code",
   "execution_count": 24,
   "metadata": {},
   "outputs": [
    {
     "data": {
      "text/plain": [
       "pandas.core.series.Series"
      ]
     },
     "execution_count": 24,
     "metadata": {},
     "output_type": "execute_result"
    }
   ],
   "source": [
    "type(data.iloc[0])"
   ]
  },
  {
   "cell_type": "code",
   "execution_count": 25,
   "metadata": {},
   "outputs": [],
   "source": [
    "series_wind=data.iloc[0][1:]"
   ]
  },
  {
   "cell_type": "code",
   "execution_count": 27,
   "metadata": {},
   "outputs": [
    {
     "data": {
      "text/plain": [
       "1     72.0\n",
       "2      4.2\n",
       "3     81.0\n",
       "4      5.7\n",
       "5     69.0\n",
       "6      2.9\n",
       "7     55.0\n",
       "8      2.7\n",
       "9     70.0\n",
       "10     3.6\n",
       "11    33.0\n",
       "12     5.1\n",
       "13    40.0\n",
       "14     4.3\n",
       "15    45.0\n",
       "16     3.2\n",
       "17    37.0\n",
       "18     4.3\n",
       "19    58.0\n",
       "20     2.9\n",
       "21    40.0\n",
       "22     3.8\n",
       "23    81.0\n",
       "24     3.3\n",
       "25    47.0\n",
       "26     3.3\n",
       "27    89.0\n",
       "28     6.1\n",
       "29    70.0\n",
       "30     3.2\n",
       "31    80.0\n",
       "32     3.6\n",
       "33    99.0\n",
       "34     5.0\n",
       "35    70.0\n",
       "36     4.7\n",
       "37    66.0\n",
       "38     4.2\n",
       "39    75.0\n",
       "40     3.7\n",
       "41    54.0\n",
       "42     2.9\n",
       "43    77.0\n",
       "44     3.8\n",
       "45    68.0\n",
       "46     2.7\n",
       "47    78.0\n",
       "48     4.0\n",
       "Name: 0, dtype: float64"
      ]
     },
     "execution_count": 27,
     "metadata": {},
     "output_type": "execute_result"
    }
   ],
   "source": [
    "series_wind"
   ]
  },
  {
   "cell_type": "code",
   "execution_count": 36,
   "metadata": {},
   "outputs": [],
   "source": [
    "list_wind:List[dict]=[]\n",
    "for index in range(24):\n",
    "    # print(index)\n",
    "    step=2\n",
    "    temp_wd=series_wind[index*step+1]\n",
    "    temp_ws=series_wind[index*step+2]\n",
    "    temp_dict={'index':index,'wd':temp_wd, 'ws':temp_ws}\n",
    "    list_wind.append(temp_dict)"
   ]
  },
  {
   "cell_type": "code",
   "execution_count": 37,
   "metadata": {},
   "outputs": [
    {
     "data": {
      "text/plain": [
       "[{'index': 0, 'wd': 72.0, 'ws': 4.2},\n",
       " {'index': 1, 'wd': 81.0, 'ws': 5.7},\n",
       " {'index': 2, 'wd': 69.0, 'ws': 2.9},\n",
       " {'index': 3, 'wd': 55.0, 'ws': 2.7},\n",
       " {'index': 4, 'wd': 70.0, 'ws': 3.6},\n",
       " {'index': 5, 'wd': 33.0, 'ws': 5.1},\n",
       " {'index': 6, 'wd': 40.0, 'ws': 4.3},\n",
       " {'index': 7, 'wd': 45.0, 'ws': 3.2},\n",
       " {'index': 8, 'wd': 37.0, 'ws': 4.3},\n",
       " {'index': 9, 'wd': 58.0, 'ws': 2.9},\n",
       " {'index': 10, 'wd': 40.0, 'ws': 3.8},\n",
       " {'index': 11, 'wd': 81.0, 'ws': 3.3},\n",
       " {'index': 12, 'wd': 47.0, 'ws': 3.3},\n",
       " {'index': 13, 'wd': 89.0, 'ws': 6.1},\n",
       " {'index': 14, 'wd': 70.0, 'ws': 3.2},\n",
       " {'index': 15, 'wd': 80.0, 'ws': 3.6},\n",
       " {'index': 16, 'wd': 99.0, 'ws': 5.0},\n",
       " {'index': 17, 'wd': 70.0, 'ws': 4.7},\n",
       " {'index': 18, 'wd': 66.0, 'ws': 4.2},\n",
       " {'index': 19, 'wd': 75.0, 'ws': 3.7},\n",
       " {'index': 20, 'wd': 54.0, 'ws': 2.9},\n",
       " {'index': 21, 'wd': 77.0, 'ws': 3.8},\n",
       " {'index': 22, 'wd': 68.0, 'ws': 2.7},\n",
       " {'index': 23, 'wd': 78.0, 'ws': 4.0}]"
      ]
     },
     "execution_count": 37,
     "metadata": {},
     "output_type": "execute_result"
    }
   ],
   "source": [
    "list_wind"
   ]
  },
  {
   "cell_type": "code",
   "execution_count": null,
   "metadata": {},
   "outputs": [],
   "source": []
  }
 ],
 "metadata": {
  "kernelspec": {
   "display_name": "newoilgdal",
   "language": "python",
   "name": "python3"
  },
  "language_info": {
   "codemirror_mode": {
    "name": "ipython",
    "version": 3
   },
   "file_extension": ".py",
   "mimetype": "text/x-python",
   "name": "python",
   "nbconvert_exporter": "python",
   "pygments_lexer": "ipython3",
   "version": "3.7.10"
  }
 },
 "nbformat": 4,
 "nbformat_minor": 2
}
