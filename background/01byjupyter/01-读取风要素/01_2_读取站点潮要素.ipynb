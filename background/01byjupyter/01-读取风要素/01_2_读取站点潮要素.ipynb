{
 "cells": [
  {
   "cell_type": "code",
   "execution_count": 2,
   "metadata": {},
   "outputs": [],
   "source": [
    "import os\n",
    "import pandas as pd\n",
    "import numpy as np\n",
    "import pathlib\n",
    "import xarray as xr\n",
    "import rioxarray\n",
    "from typing import List\n",
    "import arrow"
   ]
  },
  {
   "cell_type": "code",
   "execution_count": 3,
   "metadata": {},
   "outputs": [
    {
     "data": {
      "text/plain": [
       "'D:\\\\01Proj\\\\Station-Montior-Sys\\\\_data\\\\perclock\\\\WL1217_DAT.08442'"
      ]
     },
     "execution_count": 3,
     "metadata": {},
     "output_type": "execute_result"
    }
   ],
   "source": [
    "read_path:str=r'D:\\01Proj\\Station-Montior-Sys\\_data\\perclock'\n",
    "read_file:str='WL1217_DAT.08442'\n",
    "full_path:str=str(pathlib.Path(read_path, read_file))\n",
    "full_path"
   ]
  },
  {
   "cell_type": "markdown",
   "metadata": {},
   "source": [
    "#### 1- 读取整点风要素并生成对应集合"
   ]
  },
  {
   "cell_type": "code",
   "execution_count": 4,
   "metadata": {},
   "outputs": [],
   "source": [
    "with open(full_path,'rb') as f:\n",
    "    data=pd.read_csv(f, encoding='gbk', sep='\\s+', header=None,\n",
    "                                                infer_datetime_format=False)"
   ]
  },
  {
   "cell_type": "code",
   "execution_count": 5,
   "metadata": {},
   "outputs": [
    {
     "data": {
      "text/html": [
       "<div>\n",
       "<style scoped>\n",
       "    .dataframe tbody tr th:only-of-type {\n",
       "        vertical-align: middle;\n",
       "    }\n",
       "\n",
       "    .dataframe tbody tr th {\n",
       "        vertical-align: top;\n",
       "    }\n",
       "\n",
       "    .dataframe thead th {\n",
       "        text-align: right;\n",
       "    }\n",
       "</style>\n",
       "<table border=\"1\" class=\"dataframe\">\n",
       "  <thead>\n",
       "    <tr style=\"text-align: right;\">\n",
       "      <th></th>\n",
       "      <th>0</th>\n",
       "      <th>1</th>\n",
       "      <th>2</th>\n",
       "      <th>3</th>\n",
       "      <th>4</th>\n",
       "      <th>5</th>\n",
       "      <th>6</th>\n",
       "      <th>7</th>\n",
       "      <th>8</th>\n",
       "      <th>9</th>\n",
       "      <th>...</th>\n",
       "      <th>25</th>\n",
       "      <th>26</th>\n",
       "      <th>27</th>\n",
       "      <th>28</th>\n",
       "      <th>29</th>\n",
       "      <th>30</th>\n",
       "      <th>31</th>\n",
       "      <th>32</th>\n",
       "      <th>33</th>\n",
       "      <th>34</th>\n",
       "    </tr>\n",
       "  </thead>\n",
       "  <tbody>\n",
       "    <tr>\n",
       "      <th>0</th>\n",
       "      <td>20231217</td>\n",
       "      <td>519</td>\n",
       "      <td>587</td>\n",
       "      <td>607</td>\n",
       "      <td>582</td>\n",
       "      <td>518</td>\n",
       "      <td>420</td>\n",
       "      <td>315</td>\n",
       "      <td>225</td>\n",
       "      <td>151</td>\n",
       "      <td>...</td>\n",
       "      <td>608</td>\n",
       "      <td>148</td>\n",
       "      <td>115</td>\n",
       "      <td>906</td>\n",
       "      <td>619</td>\n",
       "      <td>1517</td>\n",
       "      <td>248</td>\n",
       "      <td>2140</td>\n",
       "      <td>9999</td>\n",
       "      <td>9999</td>\n",
       "    </tr>\n",
       "  </tbody>\n",
       "</table>\n",
       "<p>1 rows × 35 columns</p>\n",
       "</div>"
      ],
      "text/plain": [
       "         0    1    2    3    4    5    6    7    8    9   ...   25   26   27  \\\n",
       "0  20231217  519  587  607  582  518  420  315  225  151  ...  608  148  115   \n",
       "\n",
       "    28   29    30   31    32    33    34  \n",
       "0  906  619  1517  248  2140  9999  9999  \n",
       "\n",
       "[1 rows x 35 columns]"
      ]
     },
     "execution_count": 5,
     "metadata": {},
     "output_type": "execute_result"
    }
   ],
   "source": [
    "data"
   ]
  },
  {
   "cell_type": "code",
   "execution_count": 6,
   "metadata": {},
   "outputs": [
    {
     "data": {
      "text/plain": [
       "(1, 35)"
      ]
     },
     "execution_count": 6,
     "metadata": {},
     "output_type": "execute_result"
    }
   ],
   "source": [
    "data.shape"
   ]
  },
  {
   "cell_type": "code",
   "execution_count": 7,
   "metadata": {},
   "outputs": [
    {
     "data": {
      "text/plain": [
       "1"
      ]
     },
     "execution_count": 7,
     "metadata": {},
     "output_type": "execute_result"
    }
   ],
   "source": [
    "rows=data.shape[0]\n",
    "rows"
   ]
  },
  {
   "cell_type": "code",
   "execution_count": null,
   "metadata": {},
   "outputs": [],
   "source": []
  },
  {
   "cell_type": "markdown",
   "metadata": {},
   "source": [
    "#### 1-1 读取第一行  \n",
    "对于风要素，line0 行  \n",
    "index=0 时间 eg:20231217  \n",
    "index=1 -> index=48 24组数  \n",
    "风向 | 风速"
   ]
  },
  {
   "cell_type": "code",
   "execution_count": 8,
   "metadata": {},
   "outputs": [
    {
     "data": {
      "text/plain": [
       "0    20231217\n",
       "1         519\n",
       "2         587\n",
       "3         607\n",
       "4         582\n",
       "Name: 0, dtype: int64"
      ]
     },
     "execution_count": 8,
     "metadata": {},
     "output_type": "execute_result"
    }
   ],
   "source": [
    "data.iloc[0][:5]"
   ]
  },
  {
   "cell_type": "code",
   "execution_count": 15,
   "metadata": {},
   "outputs": [
    {
     "data": {
      "text/plain": [
       "20231217.0"
      ]
     },
     "execution_count": 15,
     "metadata": {},
     "output_type": "execute_result"
    }
   ],
   "source": [
    "data.iloc[0][0]"
   ]
  },
  {
   "cell_type": "code",
   "execution_count": 14,
   "metadata": {},
   "outputs": [
    {
     "data": {
      "text/plain": [
       "1     519\n",
       "2     587\n",
       "3     607\n",
       "4     582\n",
       "5     518\n",
       "6     420\n",
       "7     315\n",
       "8     225\n",
       "9     151\n",
       "10    116\n",
       "11    150\n",
       "12    251\n",
       "13    363\n",
       "14    472\n",
       "15    564\n",
       "16    617\n",
       "17    597\n",
       "18    525\n",
       "19    439\n",
       "20    365\n",
       "21    301\n",
       "22    258\n",
       "23    253\n",
       "24    313\n",
       "Name: 0, dtype: int64"
      ]
     },
     "execution_count": 14,
     "metadata": {},
     "output_type": "execute_result"
    }
   ],
   "source": [
    "data.iloc[0][1:25]"
   ]
  },
  {
   "cell_type": "code",
   "execution_count": 20,
   "metadata": {},
   "outputs": [
    {
     "data": {
      "text/plain": [
       "0"
      ]
     },
     "execution_count": 20,
     "metadata": {},
     "output_type": "execute_result"
    }
   ],
   "source": [
    "range(24)[0]"
   ]
  },
  {
   "cell_type": "code",
   "execution_count": 24,
   "metadata": {},
   "outputs": [
    {
     "data": {
      "text/plain": [
       "pandas.core.series.Series"
      ]
     },
     "execution_count": 24,
     "metadata": {},
     "output_type": "execute_result"
    }
   ],
   "source": [
    "type(data.iloc[0])"
   ]
  },
  {
   "cell_type": "code",
   "execution_count": 15,
   "metadata": {},
   "outputs": [],
   "source": [
    "series_surge=data.iloc[0][1:25]"
   ]
  },
  {
   "cell_type": "code",
   "execution_count": 16,
   "metadata": {},
   "outputs": [
    {
     "data": {
      "text/plain": [
       "20231217"
      ]
     },
     "execution_count": 16,
     "metadata": {},
     "output_type": "execute_result"
    }
   ],
   "source": [
    "int(data.iloc[0][0])"
   ]
  },
  {
   "cell_type": "code",
   "execution_count": 17,
   "metadata": {},
   "outputs": [
    {
     "data": {
      "text/plain": [
       "1     519\n",
       "2     587\n",
       "3     607\n",
       "4     582\n",
       "5     518\n",
       "6     420\n",
       "7     315\n",
       "8     225\n",
       "9     151\n",
       "10    116\n",
       "11    150\n",
       "12    251\n",
       "13    363\n",
       "14    472\n",
       "15    564\n",
       "16    617\n",
       "17    597\n",
       "18    525\n",
       "19    439\n",
       "20    365\n",
       "21    301\n",
       "22    258\n",
       "23    253\n",
       "24    313\n",
       "Name: 0, dtype: int64"
      ]
     },
     "execution_count": 17,
     "metadata": {},
     "output_type": "execute_result"
    }
   ],
   "source": [
    "series_surge"
   ]
  },
  {
   "cell_type": "code",
   "execution_count": 18,
   "metadata": {},
   "outputs": [],
   "source": [
    "list_surge:List[dict]=[]\n",
    "for index in range(24):\n",
    "    temp_surge=series_surge[index+1]\n",
    "    temp_dict={'index':index,'surge':temp_surge}\n",
    "    list_surge.append(temp_dict)"
   ]
  },
  {
   "cell_type": "code",
   "execution_count": 20,
   "metadata": {},
   "outputs": [
    {
     "data": {
      "text/plain": [
       "[{'index': 0, 'surge': 519},\n",
       " {'index': 1, 'surge': 587},\n",
       " {'index': 2, 'surge': 607},\n",
       " {'index': 3, 'surge': 582},\n",
       " {'index': 4, 'surge': 518},\n",
       " {'index': 5, 'surge': 420},\n",
       " {'index': 6, 'surge': 315},\n",
       " {'index': 7, 'surge': 225},\n",
       " {'index': 8, 'surge': 151},\n",
       " {'index': 9, 'surge': 116},\n",
       " {'index': 10, 'surge': 150},\n",
       " {'index': 11, 'surge': 251},\n",
       " {'index': 12, 'surge': 363},\n",
       " {'index': 13, 'surge': 472},\n",
       " {'index': 14, 'surge': 564},\n",
       " {'index': 15, 'surge': 617},\n",
       " {'index': 16, 'surge': 597},\n",
       " {'index': 17, 'surge': 525},\n",
       " {'index': 18, 'surge': 439},\n",
       " {'index': 19, 'surge': 365},\n",
       " {'index': 20, 'surge': 301},\n",
       " {'index': 21, 'surge': 258},\n",
       " {'index': 22, 'surge': 253},\n",
       " {'index': 23, 'surge': 313}]"
      ]
     },
     "execution_count": 20,
     "metadata": {},
     "output_type": "execute_result"
    }
   ],
   "source": [
    "list_surge"
   ]
  },
  {
   "cell_type": "code",
   "execution_count": 1,
   "metadata": {},
   "outputs": [],
   "source": [
    "from typing import List"
   ]
  },
  {
   "cell_type": "code",
   "execution_count": 7,
   "metadata": {},
   "outputs": [],
   "source": [
    "# 读取整点数据(风场为例)\n",
    "def read_wind_file(full_path:str)->List[dict]:\n",
    "    \"\"\"\n",
    "        读取指定路径的风要素文件\n",
    "    \"\"\"\n",
    "    list_wind:List[dict]=[]\n",
    "    # step-1: 判断指定文件是否存在\n",
    "    if pathlib.Path(full_path).exists():\n",
    "        # step-2: 以 gbk 格式打开指定文件\n",
    "        with open(full_path,'rb') as f:\n",
    "            data=pd.read_csv(f, encoding='gbk', sep='\\s+', header=None,\n",
    "                                                infer_datetime_format=False)\n",
    "            # step-3:获取文件的shape\n",
    "            shape=data.shape\n",
    "            # 总行数\n",
    "            rows=data.shape[0]\n",
    "            # 总列数\n",
    "            columns=data.shape[1]\n",
    "            if rows>0:                \n",
    "                # 日期\n",
    "                # eg: 20231217\n",
    "                #     yyyy-mm-dd                \n",
    "                dt_str:str=str(int(data.iloc[0][0]))\n",
    "                # 设置起始时间(utc)\n",
    "                # xxxx 12:00(utc)\n",
    "                dt_start_utc:arrow.Arrow=arrow.Arrow(dt_str,'yyyymmdd').add(hour=-12)\n",
    "                # 站点起始时间为昨天的20点(local)\n",
    "                realdata_series:pd.Series=data.iloc[0][1:]\n",
    "                \n",
    "                step=2\n",
    "                for index in range(24):\n",
    "                    # print(index)\n",
    "                    temp_dt_arrow:arrow.Arrow=dt_start_utc.add(hour=1)  \n",
    "                    temp_ts:int=temp_dt_arrow.timestamp()               \n",
    "                    temp_wd=series_wind[index*step+1]\n",
    "                    temp_ws=series_wind[index*step+2]\n",
    "                    temp_dict={'index':index,'ts':temp_ts,'wd':temp_wd, 'ws':temp_ws}\n",
    "                    list_wind.append(temp_dict)\n",
    "    return list_wind"
   ]
  },
  {
   "cell_type": "code",
   "execution_count": 22,
   "metadata": {},
   "outputs": [
    {
     "data": {
      "text/plain": [
       "25     608\n",
       "26     148\n",
       "27     115\n",
       "28     906\n",
       "29     619\n",
       "30    1517\n",
       "31     248\n",
       "32    2140\n",
       "33    9999\n",
       "34    9999\n",
       "Name: 0, dtype: int64"
      ]
     },
     "execution_count": 22,
     "metadata": {},
     "output_type": "execute_result"
    }
   ],
   "source": [
    "# 获取极值\n",
    "data.iloc[0][25:]"
   ]
  },
  {
   "cell_type": "code",
   "execution_count": 24,
   "metadata": {},
   "outputs": [
    {
     "data": {
      "text/plain": [
       "10"
      ]
     },
     "execution_count": 24,
     "metadata": {},
     "output_type": "execute_result"
    }
   ],
   "source": [
    "data.iloc[0][25:].count()"
   ]
  },
  {
   "cell_type": "code",
   "execution_count": 26,
   "metadata": {},
   "outputs": [
    {
     "name": "stdout",
     "output_type": "stream",
     "text": [
      "608\n",
      "148\n",
      "115\n",
      "906\n",
      "619\n",
      "1517\n",
      "248\n",
      "2140\n",
      "9999\n",
      "9999\n"
     ]
    }
   ],
   "source": [
    "for index,val in enumerate(data.iloc[0][25:]):\n",
    "    print(val)"
   ]
  },
  {
   "cell_type": "code",
   "execution_count": 27,
   "metadata": {},
   "outputs": [
    {
     "name": "stdout",
     "output_type": "stream",
     "text": [
      "0\n",
      "1\n",
      "2\n",
      "3\n",
      "4\n",
      "5\n",
      "6\n",
      "7\n",
      "8\n",
      "9\n"
     ]
    }
   ],
   "source": [
    "for index,val in enumerate(data.iloc[0][25:]):\n",
    "    print(index)"
   ]
  },
  {
   "cell_type": "code",
   "execution_count": 28,
   "metadata": {},
   "outputs": [
    {
     "data": {
      "text/plain": [
       "0"
      ]
     },
     "execution_count": 28,
     "metadata": {},
     "output_type": "execute_result"
    }
   ],
   "source": [
    "2%2"
   ]
  },
  {
   "cell_type": "code",
   "execution_count": 29,
   "metadata": {},
   "outputs": [
    {
     "data": {
      "text/plain": [
       "1"
      ]
     },
     "execution_count": 29,
     "metadata": {},
     "output_type": "execute_result"
    }
   ],
   "source": [
    "1%2"
   ]
  },
  {
   "cell_type": "code",
   "execution_count": 30,
   "metadata": {},
   "outputs": [
    {
     "data": {
      "text/plain": [
       "1"
      ]
     },
     "execution_count": 30,
     "metadata": {},
     "output_type": "execute_result"
    }
   ],
   "source": [
    "3%2"
   ]
  },
  {
   "cell_type": "code",
   "execution_count": 31,
   "metadata": {},
   "outputs": [
    {
     "data": {
      "text/plain": [
       "1"
      ]
     },
     "execution_count": 31,
     "metadata": {},
     "output_type": "execute_result"
    }
   ],
   "source": [
    "5%2"
   ]
  },
  {
   "cell_type": "code",
   "execution_count": 32,
   "metadata": {},
   "outputs": [
    {
     "data": {
      "text/plain": [
       "0"
      ]
     },
     "execution_count": 32,
     "metadata": {},
     "output_type": "execute_result"
    }
   ],
   "source": [
    "6%2"
   ]
  },
  {
   "cell_type": "code",
   "execution_count": 33,
   "metadata": {},
   "outputs": [
    {
     "data": {
      "text/plain": [
       "0"
      ]
     },
     "execution_count": 33,
     "metadata": {},
     "output_type": "execute_result"
    }
   ],
   "source": [
    "0%2"
   ]
  },
  {
   "cell_type": "code",
   "execution_count": 35,
   "metadata": {},
   "outputs": [
    {
     "data": {
      "text/plain": [
       "'0608'"
      ]
     },
     "execution_count": 35,
     "metadata": {},
     "output_type": "execute_result"
    }
   ],
   "source": [
    "'608'.rjust(4,'0')"
   ]
  },
  {
   "cell_type": "code",
   "execution_count": 38,
   "metadata": {},
   "outputs": [
    {
     "data": {
      "text/plain": [
       "False"
      ]
     },
     "execution_count": 38,
     "metadata": {},
     "output_type": "execute_result"
    }
   ],
   "source": [
    "data.iloc[0][34]!=9999"
   ]
  },
  {
   "cell_type": "code",
   "execution_count": null,
   "metadata": {},
   "outputs": [],
   "source": []
  }
 ],
 "metadata": {
  "kernelspec": {
   "display_name": "newoilgdal",
   "language": "python",
   "name": "python3"
  },
  "language_info": {
   "codemirror_mode": {
    "name": "ipython",
    "version": 3
   },
   "file_extension": ".py",
   "mimetype": "text/x-python",
   "name": "python",
   "nbconvert_exporter": "python",
   "pygments_lexer": "ipython3",
   "version": "3.7.10"
  }
 },
 "nbformat": 4,
 "nbformat_minor": 2
}
